{
  "nbformat": 4,
  "nbformat_minor": 0,
  "metadata": {
    "colab": {
      "provenance": []
    },
    "kernelspec": {
      "name": "python3",
      "display_name": "Python 3"
    },
    "language_info": {
      "name": "python"
    }
  },
  "cells": [
    {
      "cell_type": "code",
      "source": [
        "def calculate_total(price,shipping_fee):\n",
        "  total = price * shipping_fee\n",
        "  print(f\"{total}円\")\n",
        "calculate_total(1200,1.10)"
      ],
      "metadata": {
        "colab": {
          "base_uri": "https://localhost:8080/"
        },
        "id": "yBUueyWXYgEw",
        "outputId": "1c0af7a0-db97-4492-e791-bdd5f4941a02"
      },
      "execution_count": 4,
      "outputs": [
        {
          "output_type": "stream",
          "name": "stdout",
          "text": [
            "1320.0円\n"
          ]
        }
      ]
    }
  ]
}