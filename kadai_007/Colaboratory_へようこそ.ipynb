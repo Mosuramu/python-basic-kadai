{
  "cells": [
    {
      "cell_type": "code",
      "execution_count": 3,
      "metadata": {
        "id": "zwFnJsE6vjf8",
        "outputId": "02ed9ba4-506d-4706-9364-b21148ff186c",
        "colab": {
          "base_uri": "https://localhost:8080/"
        }
      },
      "outputs": [
        {
          "output_type": "stream",
          "name": "stdout",
          "text": [
            "侍一郎\n",
            "['侍太郎', '侍花子', '侍二郎', '侍三郎', '侍四郎']\n",
            "['侍太郎', '侍花子', '侍二郎', '侍三郎', '侍四郎', '侍五郎']\n",
            "['侍太郎', '侍花子', '侍三郎', '侍四郎', '侍五郎']\n"
          ]
        }
      ],
      "source": [
        "user_names = [\"侍太郎\", \"侍一郎\", \"侍二郎\", \"侍三郎\", \"侍四郎\"]\n",
        "\n",
        "print(user_names[1]) #2番目の要素だけを表示\n",
        "\n",
        "user_names[1] = \"侍花子\" #2番目の要素を更新\n",
        "print(user_names)\n",
        "\n",
        "user_names.append(\"侍五郎\") #6番目の要素の追加\n",
        "print(user_names)\n",
        "\n",
        "user_names.pop(2) # 3番目の要素を削除\n",
        "print(user_names)"
      ]
    },
    {
      "cell_type": "code",
      "source": [
        "country_names = (\"日本\", \"アメリカ\", \"イギリス\", \"オーストラリア\")\n",
        "print(country_names[2])\n",
        "print(country_names)"
      ],
      "metadata": {
        "id": "YxcNwbHdrzZb",
        "outputId": "7adc1dc0-4d38-40a7-df3e-817264daad36",
        "colab": {
          "base_uri": "https://localhost:8080/"
        }
      },
      "execution_count": 5,
      "outputs": [
        {
          "output_type": "stream",
          "name": "stdout",
          "text": [
            "イギリス\n",
            "('日本', 'アメリカ', 'イギリス', 'オーストラリア')\n"
          ]
        }
      ]
    },
    {
      "cell_type": "code",
      "source": [
        "country_names = {\"日本\", \"アメリカ\", \"イギリス\", \"オーストラリア\"}\n",
        "print(country_names)\n",
        "country_names.add(\"ドイツ\")\n",
        "print(country_names)\n",
        "country_names.remove(\"イギリス\")\n",
        "print(country_names)"
      ],
      "metadata": {
        "id": "L_VIxhSOuf3m",
        "outputId": "cca1c863-73ad-47b2-d6f1-22916abde9b8",
        "colab": {
          "base_uri": "https://localhost:8080/"
        }
      },
      "execution_count": 6,
      "outputs": [
        {
          "output_type": "stream",
          "name": "stdout",
          "text": [
            "{'イギリス', 'アメリカ', 'オーストラリア', '日本'}\n",
            "{'オーストラリア', 'アメリカ', '日本', 'イギリス', 'ドイツ'}\n",
            "{'オーストラリア', 'アメリカ', '日本', 'ドイツ'}\n"
          ]
        }
      ]
    },
    {
      "cell_type": "code",
      "source": [
        "personal_data = {\"name\": \"侍太郎\", \"age\": 36, \"gender\": \"男性\"}\n",
        "print(personal_data[\"name\"])\n",
        "print(personal_data)\n",
        "personal_data[\"age\"] = 37\n",
        "personal_data[\"addres\"] = \"東京都\"\n",
        "print(personal_data)"
      ],
      "metadata": {
        "id": "CfJCDcmTx3t3",
        "outputId": "1d4b122b-537f-4734-9b23-d9f9c5385332",
        "colab": {
          "base_uri": "https://localhost:8080/"
        }
      },
      "execution_count": 8,
      "outputs": [
        {
          "output_type": "stream",
          "name": "stdout",
          "text": [
            "侍太郎\n",
            "{'name': '侍太郎', 'age': 36, 'gender': '男性'}\n",
            "{'name': '侍太郎', 'age': 37, 'gender': '男性', 'addres': '東京都'}\n"
          ]
        }
      ]
    },
    {
      "cell_type": "code",
      "source": [
        "array = [\"月曜日は晴れです\", \"火曜日は雨です\", \"水曜日は晴れです\", \"木曜日は晴れです\", \"金曜日は曇りです\", \"土曜日は曇りのち雨です\", \"日曜日は雷雨です\"]\n",
        "dictionary = {\"mon\": \"晴れ\", \"tue\": \"雨\", \"wed\": \"晴れ\", \"thu\": \"晴れ\", \"fri\": \"曇り\", \"sat\": \"曇りのち雨\", \"sun\": \"雷雨\"}\n",
        "\n",
        "print(array[2])\n",
        "print(dictionary[\"wed\"])"
      ],
      "metadata": {
        "id": "QqUfPCZR2Qag",
        "outputId": "b83cdd80-035e-468e-9353-35ad3486ddb4",
        "colab": {
          "base_uri": "https://localhost:8080/"
        }
      },
      "execution_count": 9,
      "outputs": [
        {
          "output_type": "stream",
          "name": "stdout",
          "text": [
            "水曜日は晴れです\n",
            "晴れ\n"
          ]
        }
      ]
    }
  ],
  "metadata": {
    "colab": {
      "name": "Colaboratory へようこそ",
      "provenance": []
    },
    "kernelspec": {
      "display_name": "Python 3",
      "name": "python3"
    }
  },
  "nbformat": 4,
  "nbformat_minor": 0
}