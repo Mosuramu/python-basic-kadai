{
  "cells": [
    {
      "cell_type": "code",
      "source": [
        "class Human:\n",
        "  def __init__(self, name, age):\n",
        "    self.name = name\n",
        "    self.age = age\n",
        "\n",
        "  def check_adult(self):\n",
        "    if self.age >= 20:\n",
        "      print(f\"{self.name}さんは大人です\")\n",
        "    else:\n",
        "      print(f\"{self.name}さんは大人ではありません\")\n",
        "\n",
        "humans = [\n",
        "    Human(\"太郎\", 29),\n",
        "    Human(\"次郎\", 20),\n",
        "    Human(\"市子\", 25),\n",
        "    Human(\"美恵子\",19),\n",
        "    Human(\"権左衛門\", 15)\n",
        "]\n",
        "\n",
        "for human in humans:\n",
        " human.check_adult()"
      ],
      "metadata": {
        "colab": {
          "base_uri": "https://localhost:8080/"
        },
        "id": "N0HgyNzAXHxu",
        "outputId": "19865427-d5b0-44ee-e00e-a2896bd3591f"
      },
      "execution_count": 20,
      "outputs": [
        {
          "output_type": "stream",
          "name": "stdout",
          "text": [
            "太郎さんは大人です\n",
            "次郎さんは大人です\n",
            "市子さんは大人です\n",
            "美恵子さんは大人ではありません\n",
            "権左衛門さんは大人ではありません\n"
          ]
        }
      ]
    }
  ],
  "metadata": {
    "colab": {
      "name": "Colaboratory へようこそ",
      "provenance": []
    },
    "kernelspec": {
      "display_name": "Python 3",
      "name": "python3"
    }
  },
  "nbformat": 4,
  "nbformat_minor": 0
}